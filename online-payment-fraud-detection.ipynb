{
 "cells": [
  {
   "cell_type": "code",
   "execution_count": 1,
   "id": "2f48ba7c",
   "metadata": {
    "_cell_guid": "b1076dfc-b9ad-4769-8c92-a6c4dae69d19",
    "_uuid": "8f2839f25d086af736a60e9eeb907d3b93b6e0e5",
    "execution": {
     "iopub.execute_input": "2023-04-24T17:18:51.956896Z",
     "iopub.status.busy": "2023-04-24T17:18:51.956159Z",
     "iopub.status.idle": "2023-04-24T17:18:59.599731Z",
     "shell.execute_reply": "2023-04-24T17:18:59.598224Z"
    },
    "papermill": {
     "duration": 7.662281,
     "end_time": "2023-04-24T17:18:59.602768",
     "exception": false,
     "start_time": "2023-04-24T17:18:51.940487",
     "status": "completed"
    },
    "tags": []
   },
   "outputs": [],
   "source": [
    "import numpy as np \n",
    "import pandas as pd \n",
    "import matplotlib.pyplot as plt\n",
    "%matplotlib inline\n",
    "import seaborn as sns\n",
    "import scipy as sp\n",
    "from tabulate import tabulate\n",
    "import random\n",
    "import tensorflow as tf\n",
    "\n",
    "import os"
   ]
  },
  {
   "cell_type": "code",
   "execution_count": 3,
   "id": "8c130490",
   "metadata": {
    "execution": {
     "iopub.execute_input": "2023-04-24T17:18:59.657203Z",
     "iopub.status.busy": "2023-04-24T17:18:59.656048Z",
     "iopub.status.idle": "2023-04-24T17:19:23.693618Z",
     "shell.execute_reply": "2023-04-24T17:19:23.691889Z"
    },
    "papermill": {
     "duration": 24.055733,
     "end_time": "2023-04-24T17:19:23.69622",
     "exception": false,
     "start_time": "2023-04-24T17:18:59.640487",
     "status": "completed"
    },
    "tags": []
   },
   "outputs": [
    {
     "name": "stdout",
     "output_type": "stream",
     "text": [
      "<class 'pandas.core.frame.DataFrame'>\n",
      "RangeIndex: 6362620 entries, 0 to 6362619\n",
      "Data columns (total 10 columns):\n",
      " #   Column          Dtype  \n",
      "---  ------          -----  \n",
      " 0   step            int64  \n",
      " 1   type            object \n",
      " 2   amount          float64\n",
      " 3   nameOrig        object \n",
      " 4   oldbalanceOrg   float64\n",
      " 5   newbalanceOrig  float64\n",
      " 6   nameDest        object \n",
      " 7   oldbalanceDest  float64\n",
      " 8   newbalanceDest  float64\n",
      " 9   isFraud         int64  \n",
      "dtypes: float64(5), int64(2), object(3)\n",
      "memory usage: 485.4+ MB\n"
     ]
    }
   ],
   "source": [
    "df = pd.read_csv(r\"C:\\Users\\preet\\OneDrive\\Desktop\\fraud\\data.csv\")\n",
    "\n",
    "df.drop('isFlaggedFraud', axis=1, inplace=True)\n",
    "\n",
    "df.info()"
   ]
  },
  {
   "cell_type": "markdown",
   "id": "ee4d56f3",
   "metadata": {
    "papermill": {
     "duration": 0.012345,
     "end_time": "2023-04-24T17:19:23.721756",
     "exception": false,
     "start_time": "2023-04-24T17:19:23.709411",
     "status": "completed"
    },
    "tags": []
   },
   "source": [
    "* The dataset consists of 6,362,620 observations."
   ]
  },
  {
   "cell_type": "code",
   "execution_count": 4,
   "id": "fa72d3c6",
   "metadata": {
    "execution": {
     "iopub.execute_input": "2023-04-24T17:19:23.748483Z",
     "iopub.status.busy": "2023-04-24T17:19:23.748039Z",
     "iopub.status.idle": "2023-04-24T17:19:24.11223Z",
     "shell.execute_reply": "2023-04-24T17:19:24.110994Z"
    },
    "papermill": {
     "duration": 0.380653,
     "end_time": "2023-04-24T17:19:24.114798",
     "exception": false,
     "start_time": "2023-04-24T17:19:23.734145",
     "status": "completed"
    },
    "tags": []
   },
   "outputs": [
    {
     "data": {
      "text/html": [
       "<div>\n",
       "<style scoped>\n",
       "    .dataframe tbody tr th:only-of-type {\n",
       "        vertical-align: middle;\n",
       "    }\n",
       "\n",
       "    .dataframe tbody tr th {\n",
       "        vertical-align: top;\n",
       "    }\n",
       "\n",
       "    .dataframe thead th {\n",
       "        text-align: right;\n",
       "    }\n",
       "</style>\n",
       "<table border=\"1\" class=\"dataframe\">\n",
       "  <thead>\n",
       "    <tr style=\"text-align: right;\">\n",
       "      <th></th>\n",
       "      <th>step</th>\n",
       "      <th>type</th>\n",
       "      <th>amount</th>\n",
       "      <th>nameOrig</th>\n",
       "      <th>oldbalanceOrg</th>\n",
       "      <th>newbalanceOrig</th>\n",
       "      <th>nameDest</th>\n",
       "      <th>oldbalanceDest</th>\n",
       "      <th>newbalanceDest</th>\n",
       "      <th>isFraud</th>\n",
       "    </tr>\n",
       "  </thead>\n",
       "  <tbody>\n",
       "    <tr>\n",
       "      <th>2992678</th>\n",
       "      <td>232</td>\n",
       "      <td>CASH_OUT</td>\n",
       "      <td>32329.96</td>\n",
       "      <td>C398706452</td>\n",
       "      <td>11312.00</td>\n",
       "      <td>0.00</td>\n",
       "      <td>C1036212634</td>\n",
       "      <td>509894.66</td>\n",
       "      <td>542224.61</td>\n",
       "      <td>0</td>\n",
       "    </tr>\n",
       "    <tr>\n",
       "      <th>2040734</th>\n",
       "      <td>181</td>\n",
       "      <td>CASH_IN</td>\n",
       "      <td>429956.81</td>\n",
       "      <td>C455324287</td>\n",
       "      <td>20099.00</td>\n",
       "      <td>450055.81</td>\n",
       "      <td>C694258314</td>\n",
       "      <td>0.00</td>\n",
       "      <td>0.00</td>\n",
       "      <td>0</td>\n",
       "    </tr>\n",
       "    <tr>\n",
       "      <th>2320024</th>\n",
       "      <td>188</td>\n",
       "      <td>TRANSFER</td>\n",
       "      <td>147095.83</td>\n",
       "      <td>C1611535237</td>\n",
       "      <td>320839.13</td>\n",
       "      <td>173743.30</td>\n",
       "      <td>C1805708874</td>\n",
       "      <td>10554450.32</td>\n",
       "      <td>10701546.15</td>\n",
       "      <td>0</td>\n",
       "    </tr>\n",
       "    <tr>\n",
       "      <th>4785378</th>\n",
       "      <td>338</td>\n",
       "      <td>CASH_IN</td>\n",
       "      <td>180742.79</td>\n",
       "      <td>C1022677788</td>\n",
       "      <td>552310.93</td>\n",
       "      <td>733053.72</td>\n",
       "      <td>C212939891</td>\n",
       "      <td>2079333.11</td>\n",
       "      <td>1898590.32</td>\n",
       "      <td>0</td>\n",
       "    </tr>\n",
       "    <tr>\n",
       "      <th>4105623</th>\n",
       "      <td>302</td>\n",
       "      <td>PAYMENT</td>\n",
       "      <td>12423.68</td>\n",
       "      <td>C396033124</td>\n",
       "      <td>0.00</td>\n",
       "      <td>0.00</td>\n",
       "      <td>M1425865640</td>\n",
       "      <td>0.00</td>\n",
       "      <td>0.00</td>\n",
       "      <td>0</td>\n",
       "    </tr>\n",
       "  </tbody>\n",
       "</table>\n",
       "</div>"
      ],
      "text/plain": [
       "         step      type     amount     nameOrig  oldbalanceOrg  \\\n",
       "2992678   232  CASH_OUT   32329.96   C398706452       11312.00   \n",
       "2040734   181   CASH_IN  429956.81   C455324287       20099.00   \n",
       "2320024   188  TRANSFER  147095.83  C1611535237      320839.13   \n",
       "4785378   338   CASH_IN  180742.79  C1022677788      552310.93   \n",
       "4105623   302   PAYMENT   12423.68   C396033124           0.00   \n",
       "\n",
       "         newbalanceOrig     nameDest  oldbalanceDest  newbalanceDest  isFraud  \n",
       "2992678            0.00  C1036212634       509894.66       542224.61        0  \n",
       "2040734       450055.81   C694258314            0.00            0.00        0  \n",
       "2320024       173743.30  C1805708874     10554450.32     10701546.15        0  \n",
       "4785378       733053.72   C212939891      2079333.11      1898590.32        0  \n",
       "4105623            0.00  M1425865640            0.00            0.00        0  "
      ]
     },
     "execution_count": 4,
     "metadata": {},
     "output_type": "execute_result"
    }
   ],
   "source": [
    "df.sample(5)"
   ]
  },
  {
   "cell_type": "code",
   "execution_count": 5,
   "id": "4fafa11d",
   "metadata": {
    "execution": {
     "iopub.execute_input": "2023-04-24T17:19:24.142914Z",
     "iopub.status.busy": "2023-04-24T17:19:24.142486Z",
     "iopub.status.idle": "2023-04-24T17:19:25.065283Z",
     "shell.execute_reply": "2023-04-24T17:19:25.064049Z"
    },
    "papermill": {
     "duration": 0.939661,
     "end_time": "2023-04-24T17:19:25.067758",
     "exception": false,
     "start_time": "2023-04-24T17:19:24.128097",
     "status": "completed"
    },
    "tags": []
   },
   "outputs": [
    {
     "data": {
      "text/plain": [
       "step              0\n",
       "type              0\n",
       "amount            0\n",
       "nameOrig          0\n",
       "oldbalanceOrg     0\n",
       "newbalanceOrig    0\n",
       "nameDest          0\n",
       "oldbalanceDest    0\n",
       "newbalanceDest    0\n",
       "isFraud           0\n",
       "dtype: int64"
      ]
     },
     "execution_count": 5,
     "metadata": {},
     "output_type": "execute_result"
    }
   ],
   "source": [
    "df.isnull().sum()"
   ]
  },
  {
   "cell_type": "markdown",
   "id": "0b416272",
   "metadata": {
    "papermill": {
     "duration": 0.012695,
     "end_time": "2023-04-24T17:19:25.093837",
     "exception": false,
     "start_time": "2023-04-24T17:19:25.081142",
     "status": "completed"
    },
    "tags": []
   },
   "source": [
    "* There are no missing values."
   ]
  },
  {
   "cell_type": "code",
   "execution_count": 6,
   "id": "2b99a806",
   "metadata": {
    "execution": {
     "iopub.execute_input": "2023-04-24T17:19:25.122642Z",
     "iopub.status.busy": "2023-04-24T17:19:25.122117Z",
     "iopub.status.idle": "2023-04-24T17:19:25.300894Z",
     "shell.execute_reply": "2023-04-24T17:19:25.299107Z"
    },
    "papermill": {
     "duration": 0.196922,
     "end_time": "2023-04-24T17:19:25.303816",
     "exception": false,
     "start_time": "2023-04-24T17:19:25.106894",
     "status": "completed"
    },
    "tags": []
   },
   "outputs": [
    {
     "name": "stdout",
     "output_type": "stream",
     "text": [
      "|    | columns        |   min value |   max value |\n",
      "|----|----------------|-------------|-------------|\n",
      "|  0 | amount         |           0 | 9.24455e+07 |\n",
      "|  1 | oldbalanceOrg  |           0 |  5.9585e+07 |\n",
      "|  2 | newbalanceOrig |           0 |  4.9585e+07 |\n",
      "|  3 | oldbalanceDest |           0 | 3.56016e+08 |\n",
      "|  4 | isFraud        |           0 |           1 |\n"
     ]
    }
   ],
   "source": [
    "fraud_min_max = [\n",
    "    ['amount', df.amount.min(), df.amount.max()],\n",
    "    ['oldbalanceOrg', df.oldbalanceOrg.min(), df.oldbalanceOrg.max()],\n",
    "    ['newbalanceOrig', df.newbalanceOrig.min(), df.newbalanceOrig.max()],\n",
    "    ['oldbalanceDest', df.oldbalanceDest.min(), df.oldbalanceDest.max()],\n",
    "    ['isFraud', df.isFraud.min(), df.isFraud.max()]\n",
    "] \n",
    "\n",
    "print(\n",
    "    tabulate(\n",
    "        fraud_min_max,\n",
    "        headers=['columns', 'min value', 'max value'],\n",
    "        showindex=True,\n",
    "        tablefmt='github',\n",
    "        numalign='right'\n",
    "    )\n",
    ")"
   ]
  },
  {
   "cell_type": "code",
   "execution_count": 7,
   "id": "3d0ca91a",
   "metadata": {
    "execution": {
     "iopub.execute_input": "2023-04-24T17:19:25.331644Z",
     "iopub.status.busy": "2023-04-24T17:19:25.331228Z",
     "iopub.status.idle": "2023-04-24T17:19:26.97029Z",
     "shell.execute_reply": "2023-04-24T17:19:26.968897Z"
    },
    "papermill": {
     "duration": 1.656698,
     "end_time": "2023-04-24T17:19:26.97337",
     "exception": false,
     "start_time": "2023-04-24T17:19:25.316672",
     "status": "completed"
    },
    "tags": []
   },
   "outputs": [],
   "source": [
    "# Downcast numerical columns with smaller dtype\n",
    "for col in df.columns:\n",
    "    if df[col].dtype == 'float64':\n",
    "        df[col] = pd.to_numeric(df[col], downcast='float')\n",
    "    if df[col].dtype == 'int64':\n",
    "        df[col] = pd.to_numeric(df[col], downcast='unsigned')\n",
    "\n",
    "# Use category dtype for categorical column\n",
    "df['type'] = df['type'].astype('category')"
   ]
  },
  {
   "cell_type": "code",
   "execution_count": 8,
   "id": "301389ad",
   "metadata": {
    "execution": {
     "iopub.execute_input": "2023-04-24T17:19:27.00111Z",
     "iopub.status.busy": "2023-04-24T17:19:27.000676Z",
     "iopub.status.idle": "2023-04-24T17:19:47.128527Z",
     "shell.execute_reply": "2023-04-24T17:19:47.127175Z"
    },
    "papermill": {
     "duration": 20.145249,
     "end_time": "2023-04-24T17:19:47.131561",
     "exception": false,
     "start_time": "2023-04-24T17:19:26.986312",
     "status": "completed"
    },
    "tags": []
   },
   "outputs": [
    {
     "data": {
      "text/plain": [
       "0"
      ]
     },
     "execution_count": 8,
     "metadata": {},
     "output_type": "execute_result"
    }
   ],
   "source": [
    "# Check duplicate values\n",
    "df.duplicated().sum()"
   ]
  },
  {
   "cell_type": "markdown",
   "id": "e3cb79d6",
   "metadata": {
    "papermill": {
     "duration": 0.013072,
     "end_time": "2023-04-24T17:19:47.157998",
     "exception": false,
     "start_time": "2023-04-24T17:19:47.144926",
     "status": "completed"
    },
    "tags": []
   },
   "source": [
    "* There are no duplicate values."
   ]
  },
  {
   "cell_type": "code",
   "execution_count": 9,
   "id": "908e7656",
   "metadata": {
    "execution": {
     "iopub.execute_input": "2023-04-24T17:19:47.187197Z",
     "iopub.status.busy": "2023-04-24T17:19:47.186288Z",
     "iopub.status.idle": "2023-04-24T17:19:47.191409Z",
     "shell.execute_reply": "2023-04-24T17:19:47.190486Z"
    },
    "papermill": {
     "duration": 0.022644,
     "end_time": "2023-04-24T17:19:47.193779",
     "exception": false,
     "start_time": "2023-04-24T17:19:47.171135",
     "status": "completed"
    },
    "tags": []
   },
   "outputs": [],
   "source": [
    "sns.set_style('whitegrid')\n",
    "plt.rcParams['figure.figsize'] = (8,6)"
   ]
  },
  {
   "cell_type": "markdown",
   "id": "fcbab373",
   "metadata": {
    "papermill": {
     "duration": 0.014608,
     "end_time": "2023-04-24T17:19:47.221661",
     "exception": false,
     "start_time": "2023-04-24T17:19:47.207053",
     "status": "completed"
    },
    "tags": []
   },
   "source": [
    "<h2>\n",
    "    <div style='background:steelblue'> \n",
    "    <font color='white'>\n",
    "    <b>&nbsp; Univariate data visualization</b>\n",
    "    </font>\n",
    "    </div>\n",
    "</h2>"
   ]
  },
  {
   "cell_type": "code",
   "execution_count": 10,
   "id": "10ebb7de",
   "metadata": {
    "execution": {
     "iopub.execute_input": "2023-04-24T17:19:47.252974Z",
     "iopub.status.busy": "2023-04-24T17:19:47.252117Z",
     "iopub.status.idle": "2023-04-24T17:19:47.302051Z",
     "shell.execute_reply": "2023-04-24T17:19:47.300796Z"
    },
    "papermill": {
     "duration": 0.067881,
     "end_time": "2023-04-24T17:19:47.304617",
     "exception": false,
     "start_time": "2023-04-24T17:19:47.236736",
     "status": "completed"
    },
    "tags": []
   },
   "outputs": [
    {
     "data": {
      "text/plain": [
       "step\n",
       "19     51352\n",
       "18     49579\n",
       "187    49083\n",
       "235    47491\n",
       "307    46968\n",
       "       ...  \n",
       "432        4\n",
       "706        4\n",
       "693        4\n",
       "112        2\n",
       "662        2\n",
       "Name: count, Length: 743, dtype: int64"
      ]
     },
     "execution_count": 10,
     "metadata": {},
     "output_type": "execute_result"
    }
   ],
   "source": [
    "df['step'].value_counts()"
   ]
  },
  {
   "cell_type": "markdown",
   "id": "8f6c96fa",
   "metadata": {
    "papermill": {
     "duration": 0.012871,
     "end_time": "2023-04-24T17:19:47.330691",
     "exception": false,
     "start_time": "2023-04-24T17:19:47.31782",
     "status": "completed"
    },
    "tags": []
   },
   "source": [
    "* There are **743** steps, and every step has **at least 2** occurrences."
   ]
  },
  {
   "cell_type": "code",
   "execution_count": 11,
   "id": "e2cec20d",
   "metadata": {
    "execution": {
     "iopub.execute_input": "2023-04-24T17:19:47.359195Z",
     "iopub.status.busy": "2023-04-24T17:19:47.358343Z",
     "iopub.status.idle": "2023-04-24T17:19:48.063324Z",
     "shell.execute_reply": "2023-04-24T17:19:48.062089Z"
    },
    "papermill": {
     "duration": 0.722427,
     "end_time": "2023-04-24T17:19:48.066054",
     "exception": false,
     "start_time": "2023-04-24T17:19:47.343627",
     "status": "completed"
    },
    "tags": []
   },
   "outputs": [
    {
     "name": "stderr",
     "output_type": "stream",
     "text": [
      "C:\\Users\\preet\\AppData\\Local\\Temp\\ipykernel_14184\\3874918745.py:1: FutureWarning: \n",
      "\n",
      "Passing `palette` without assigning `hue` is deprecated and will be removed in v0.14.0. Assign the `x` variable to `hue` and set `legend=False` for the same effect.\n",
      "\n",
      "  ax = sns.countplot(x='type', data=df, palette='PuBu')\n",
      "C:\\Users\\preet\\AppData\\Local\\Temp\\ipykernel_14184\\3874918745.py:5: UserWarning: No artists with labels found to put in legend.  Note that artists whose label start with an underscore are ignored when legend() is called with no argument.\n",
      "  plt.legend(bbox_to_anchor=(1.05,1), loc='upper left')\n"
     ]
    },
    {
     "data": {
      "text/plain": [
       "Text(0, 0.5, 'Number of transactions')"
      ]
     },
     "execution_count": 11,
     "metadata": {},
     "output_type": "execute_result"
    }
   ],
   "source": [
    "ax = sns.countplot(x='type', data=df, palette='PuBu')\n",
    "for container in ax.containers:\n",
    "    ax.bar_label(container)\n",
    "plt.title('Count plot of transaction type')\n",
    "plt.legend(bbox_to_anchor=(1.05,1), loc='upper left')\n",
    "plt.ylabel('Number of transactions')"
   ]
  },
  {
   "cell_type": "markdown",
   "id": "3702c3d2",
   "metadata": {
    "papermill": {
     "duration": 0.013269,
     "end_time": "2023-04-24T17:19:48.092916",
     "exception": false,
     "start_time": "2023-04-24T17:19:48.079647",
     "status": "completed"
    },
    "tags": []
   },
   "source": [
    "* **Cash out** is **the most numerous** transaction type, followed by payment, cash in, transfer and debit types."
   ]
  },
  {
   "cell_type": "code",
   "execution_count": 12,
   "id": "64f4281b",
   "metadata": {
    "execution": {
     "iopub.execute_input": "2023-04-24T17:19:48.122542Z",
     "iopub.status.busy": "2023-04-24T17:19:48.121547Z",
     "iopub.status.idle": "2023-04-24T17:20:11.227537Z",
     "shell.execute_reply": "2023-04-24T17:20:11.226223Z"
    },
    "papermill": {
     "duration": 23.123627,
     "end_time": "2023-04-24T17:20:11.230134",
     "exception": false,
     "start_time": "2023-04-24T17:19:48.106507",
     "status": "completed"
    },
    "tags": []
   },
   "outputs": [
    {
     "data": {
      "text/plain": [
       "Text(0.5, 1.0, 'Distribution of transaction amount')"
      ]
     },
     "execution_count": 12,
     "metadata": {},
     "output_type": "execute_result"
    }
   ],
   "source": [
    "sns.kdeplot(df['amount'], linewidth=4)\n",
    "plt.title('Distribution of transaction amount')"
   ]
  },
  {
   "cell_type": "markdown",
   "id": "690b6a27",
   "metadata": {
    "papermill": {
     "duration": 0.013567,
     "end_time": "2023-04-24T17:20:11.257777",
     "exception": false,
     "start_time": "2023-04-24T17:20:11.24421",
     "status": "completed"
    },
    "tags": []
   },
   "source": [
    "* The distribution of transaction amounts is **right skewed**. \n",
    "* This indicates that most values are clustered around the left tail of the distribution, with the longer right tail. \n",
    "* (mode < median < mean)"
   ]
  },
  {
   "cell_type": "code",
   "execution_count": 13,
   "id": "dacd6ea9",
   "metadata": {
    "execution": {
     "iopub.execute_input": "2023-04-24T17:20:11.288205Z",
     "iopub.status.busy": "2023-04-24T17:20:11.287377Z",
     "iopub.status.idle": "2023-04-24T17:20:24.765306Z",
     "shell.execute_reply": "2023-04-24T17:20:24.763961Z"
    },
    "papermill": {
     "duration": 13.496367,
     "end_time": "2023-04-24T17:20:24.768091",
     "exception": false,
     "start_time": "2023-04-24T17:20:11.271724",
     "status": "completed"
    },
    "tags": []
   },
   "outputs": [
    {
     "data": {
      "text/plain": [
       "nameOrig\n",
       "C1902386530    3\n",
       "C363736674     3\n",
       "C545315117     3\n",
       "C724452879     3\n",
       "C1784010646    3\n",
       "              ..\n",
       "C98968405      1\n",
       "C720209255     1\n",
       "C1567523029    1\n",
       "C644777639     1\n",
       "C1280323807    1\n",
       "Name: count, Length: 6353307, dtype: int64"
      ]
     },
     "execution_count": 13,
     "metadata": {},
     "output_type": "execute_result"
    }
   ],
   "source": [
    "df['nameOrig'].value_counts()"
   ]
  },
  {
   "cell_type": "markdown",
   "id": "dfee5426",
   "metadata": {
    "papermill": {
     "duration": 0.015723,
     "end_time": "2023-04-24T17:20:24.800009",
     "exception": false,
     "start_time": "2023-04-24T17:20:24.784286",
     "status": "completed"
    },
    "tags": []
   },
   "source": [
    "* There are **6353307** initial customers, and every step has **at least 1** occurrence."
   ]
  },
  {
   "cell_type": "code",
   "execution_count": 14,
   "id": "f936f3b8",
   "metadata": {
    "execution": {
     "iopub.execute_input": "2023-04-24T17:20:24.832974Z",
     "iopub.status.busy": "2023-04-24T17:20:24.832406Z",
     "iopub.status.idle": "2023-04-24T17:20:48.895548Z",
     "shell.execute_reply": "2023-04-24T17:20:48.894173Z"
    },
    "papermill": {
     "duration": 24.083141,
     "end_time": "2023-04-24T17:20:48.898437",
     "exception": false,
     "start_time": "2023-04-24T17:20:24.815296",
     "status": "completed"
    },
    "tags": []
   },
   "outputs": [
    {
     "data": {
      "text/plain": [
       "Text(0.5, 1.0, 'Distribution of transaction amount')"
      ]
     },
     "execution_count": 14,
     "metadata": {},
     "output_type": "execute_result"
    }
   ],
   "source": [
    "sns.kdeplot(df['oldbalanceOrg'], linewidth=4)\n",
    "plt.title('Distribution of transaction amount')"
   ]
  },
  {
   "cell_type": "markdown",
   "id": "107221cd",
   "metadata": {
    "papermill": {
     "duration": 0.014492,
     "end_time": "2023-04-24T17:20:48.927922",
     "exception": false,
     "start_time": "2023-04-24T17:20:48.91343",
     "status": "completed"
    },
    "tags": []
   },
   "source": [
    "* The distribution of pre-transaction balances of the initial customers is **right skewed**."
   ]
  },
  {
   "cell_type": "code",
   "execution_count": 15,
   "id": "e97db1c3",
   "metadata": {
    "execution": {
     "iopub.execute_input": "2023-04-24T17:20:48.959981Z",
     "iopub.status.busy": "2023-04-24T17:20:48.959552Z",
     "iopub.status.idle": "2023-04-24T17:21:12.411296Z",
     "shell.execute_reply": "2023-04-24T17:21:12.410057Z"
    },
    "papermill": {
     "duration": 23.470658,
     "end_time": "2023-04-24T17:21:12.413967",
     "exception": false,
     "start_time": "2023-04-24T17:20:48.943309",
     "status": "completed"
    },
    "tags": []
   },
   "outputs": [
    {
     "data": {
      "text/plain": [
       "Text(0.5, 1.0, 'Distribution of transaction amount')"
      ]
     },
     "execution_count": 15,
     "metadata": {},
     "output_type": "execute_result"
    }
   ],
   "source": [
    "sns.kdeplot(df['newbalanceOrig'], linewidth=4)\n",
    "plt.title('Distribution of transaction amount')"
   ]
  },
  {
   "cell_type": "markdown",
   "id": "2074a876",
   "metadata": {
    "papermill": {
     "duration": 0.016053,
     "end_time": "2023-04-24T17:21:12.445638",
     "exception": false,
     "start_time": "2023-04-24T17:21:12.429585",
     "status": "completed"
    },
    "tags": []
   },
   "source": [
    "* The distribution of post-transaction balances of the initial customers is **right skewed**."
   ]
  },
  {
   "cell_type": "code",
   "execution_count": 16,
   "id": "1eb3b486",
   "metadata": {
    "execution": {
     "iopub.execute_input": "2023-04-24T17:21:12.479238Z",
     "iopub.status.busy": "2023-04-24T17:21:12.478529Z",
     "iopub.status.idle": "2023-04-24T17:21:19.392132Z",
     "shell.execute_reply": "2023-04-24T17:21:19.390666Z"
    },
    "papermill": {
     "duration": 6.933264,
     "end_time": "2023-04-24T17:21:19.394795",
     "exception": false,
     "start_time": "2023-04-24T17:21:12.461531",
     "status": "completed"
    },
    "tags": []
   },
   "outputs": [
    {
     "data": {
      "text/plain": [
       "nameDest\n",
       "C1286084959    113\n",
       "C985934102     109\n",
       "C665576141     105\n",
       "C2083562754    102\n",
       "C248609774     101\n",
       "              ... \n",
       "M1470027725      1\n",
       "M1330329251      1\n",
       "M1784358659      1\n",
       "M2081431099      1\n",
       "C2080388513      1\n",
       "Name: count, Length: 2722362, dtype: int64"
      ]
     },
     "execution_count": 16,
     "metadata": {},
     "output_type": "execute_result"
    }
   ],
   "source": [
    "df['nameDest'].value_counts()"
   ]
  },
  {
   "cell_type": "markdown",
   "id": "ddfeb87e",
   "metadata": {
    "papermill": {
     "duration": 0.015609,
     "end_time": "2023-04-24T17:21:19.42592",
     "exception": false,
     "start_time": "2023-04-24T17:21:19.410311",
     "status": "completed"
    },
    "tags": []
   },
   "source": [
    "* There are **2722362** recipients, and every step has **at least 1** occurrence."
   ]
  },
  {
   "cell_type": "code",
   "execution_count": 17,
   "id": "45a38aa4",
   "metadata": {
    "execution": {
     "iopub.execute_input": "2023-04-24T17:21:19.4598Z",
     "iopub.status.busy": "2023-04-24T17:21:19.459356Z",
     "iopub.status.idle": "2023-04-24T17:21:42.555374Z",
     "shell.execute_reply": "2023-04-24T17:21:42.553912Z"
    },
    "papermill": {
     "duration": 23.11648,
     "end_time": "2023-04-24T17:21:42.558268",
     "exception": false,
     "start_time": "2023-04-24T17:21:19.441788",
     "status": "completed"
    },
    "tags": []
   },
   "outputs": [
    {
     "data": {
      "text/plain": [
       "Text(0.5, 1.0, 'Distribution of transaction amount')"
      ]
     },
     "execution_count": 17,
     "metadata": {},
     "output_type": "execute_result"
    }
   ],
   "source": [
    "sns.kdeplot(df['oldbalanceDest'], linewidth=4)\n",
    "plt.title('Distribution of transaction amount')"
   ]
  },
  {
   "cell_type": "markdown",
   "id": "07095b18",
   "metadata": {
    "papermill": {
     "duration": 0.017391,
     "end_time": "2023-04-24T17:21:42.591569",
     "exception": false,
     "start_time": "2023-04-24T17:21:42.574178",
     "status": "completed"
    },
    "tags": []
   },
   "source": [
    "* The distribution of pre-transaction balances of the recipient is **right skewed**."
   ]
  },
  {
   "cell_type": "code",
   "execution_count": 18,
   "id": "f9bc0134",
   "metadata": {
    "execution": {
     "iopub.execute_input": "2023-04-24T17:21:42.625485Z",
     "iopub.status.busy": "2023-04-24T17:21:42.625075Z",
     "iopub.status.idle": "2023-04-24T17:22:05.884715Z",
     "shell.execute_reply": "2023-04-24T17:22:05.882907Z"
    },
    "papermill": {
     "duration": 23.280634,
     "end_time": "2023-04-24T17:22:05.888095",
     "exception": false,
     "start_time": "2023-04-24T17:21:42.607461",
     "status": "completed"
    },
    "tags": []
   },
   "outputs": [
    {
     "data": {
      "text/plain": [
       "Text(0.5, 1.0, 'Distribution of transaction amount')"
      ]
     },
     "execution_count": 18,
     "metadata": {},
     "output_type": "execute_result"
    }
   ],
   "source": [
    "sns.kdeplot(df['newbalanceDest'], linewidth=4)\n",
    "plt.title('Distribution of transaction amount')"
   ]
  },
  {
   "cell_type": "markdown",
   "id": "fe5a04fc",
   "metadata": {
    "papermill": {
     "duration": 0.020236,
     "end_time": "2023-04-24T17:22:05.933757",
     "exception": false,
     "start_time": "2023-04-24T17:22:05.913521",
     "status": "completed"
    },
    "tags": []
   },
   "source": [
    "* The distribution of post-transaction balances of the recipient is **right skewed**."
   ]
  },
  {
   "cell_type": "code",
   "execution_count": 19,
   "id": "d29a326a",
   "metadata": {
    "execution": {
     "iopub.execute_input": "2023-04-24T17:22:05.977774Z",
     "iopub.status.busy": "2023-04-24T17:22:05.97689Z",
     "iopub.status.idle": "2023-04-24T17:22:06.974976Z",
     "shell.execute_reply": "2023-04-24T17:22:06.973673Z"
    },
    "papermill": {
     "duration": 1.023904,
     "end_time": "2023-04-24T17:22:06.978263",
     "exception": false,
     "start_time": "2023-04-24T17:22:05.954359",
     "status": "completed"
    },
    "tags": []
   },
   "outputs": [
    {
     "name": "stderr",
     "output_type": "stream",
     "text": [
      "C:\\Users\\preet\\AppData\\Local\\Temp\\ipykernel_14184\\80623673.py:1: FutureWarning: \n",
      "\n",
      "Passing `palette` without assigning `hue` is deprecated and will be removed in v0.14.0. Assign the `x` variable to `hue` and set `legend=False` for the same effect.\n",
      "\n",
      "  ax = sns.countplot(x='isFraud', data=df, palette='PuBu')\n"
     ]
    }
   ],
   "source": [
    "ax = sns.countplot(x='isFraud', data=df, palette='PuBu')\n",
    "for container in ax.containers:\n",
    "    ax.bar_label(container)\n",
    "plt.title('Count plot of fraud transaction')\n",
    "plt.ylabel('Number of transactions')\n",
    "\n",
    "del ax"
   ]
  },
  {
   "cell_type": "markdown",
   "id": "23c1aee0",
   "metadata": {
    "papermill": {
     "duration": 0.019503,
     "end_time": "2023-04-24T17:22:07.018229",
     "exception": false,
     "start_time": "2023-04-24T17:22:06.998726",
     "status": "completed"
    },
    "tags": []
   },
   "source": [
    "* There are much **more non-fraudulent transactions** than fraudulent transactions."
   ]
  },
  {
   "cell_type": "markdown",
   "id": "2489ffd2",
   "metadata": {
    "papermill": {
     "duration": 0.016651,
     "end_time": "2023-04-24T17:22:07.052839",
     "exception": false,
     "start_time": "2023-04-24T17:22:07.036188",
     "status": "completed"
    },
    "tags": []
   },
   "source": [
    "<h2>\n",
    "    <div style='background:steelblue'> \n",
    "    <font color='white'>\n",
    "    <b>&nbsp; Bivariate data visualization</b>\n",
    "    </font>\n",
    "    </div>\n",
    "</h2>"
   ]
  },
  {
   "cell_type": "code",
   "execution_count": 20,
   "id": "9fdf29bb",
   "metadata": {
    "execution": {
     "iopub.execute_input": "2023-04-24T17:22:07.088507Z",
     "iopub.status.busy": "2023-04-24T17:22:07.088058Z",
     "iopub.status.idle": "2023-04-24T17:22:09.155821Z",
     "shell.execute_reply": "2023-04-24T17:22:09.154354Z"
    },
    "papermill": {
     "duration": 2.08899,
     "end_time": "2023-04-24T17:22:09.158714",
     "exception": false,
     "start_time": "2023-04-24T17:22:07.069724",
     "status": "completed"
    },
    "tags": []
   },
   "outputs": [
    {
     "name": "stderr",
     "output_type": "stream",
     "text": [
      "C:\\Users\\preet\\AppData\\Local\\Temp\\ipykernel_14184\\3891187721.py:10: FutureWarning: The default of observed=False is deprecated and will be changed to True in a future version of pandas. Pass observed=False to retain current behavior or observed=True to adopt the future default and silence this warning.\n",
      "  df2 = df.groupby(['type', 'isFraud']).size().unstack()\n"
     ]
    }
   ],
   "source": [
    "fig, ax = plt.subplots(1,2,figsize=(20,5))\n",
    "\n",
    "sns.countplot(x='type', data=df, hue='isFraud', palette='PuBu', ax=ax[0])\n",
    "for container in ax[0].containers:\n",
    "    ax[0].bar_label(container)\n",
    "ax[0].set_title('Count plot of transaction type')\n",
    "ax[0].legend(loc='best')\n",
    "ax[0].set_ylabel('Number of transactions')\n",
    "\n",
    "df2 = df.groupby(['type', 'isFraud']).size().unstack()\n",
    "df2.apply(lambda x : round(x/sum(x)*100, 2), axis=1).plot(kind='barh', stacked=True, color=['lightsteelblue', 'steelblue'], ax=ax[1])\n",
    "for container in ax[1].containers:\n",
    "    ax[1].bar_label(container, label_type='center')\n",
    "ax[1].set_title('Count plot of transaction type')\n",
    "ax[1].legend(bbox_to_anchor=(1.05,1), loc='upper left')\n",
    "ax[1].set_ylabel('Number of transactions')\n",
    "ax[1].grid(axis='y')"
   ]
  },
  {
   "cell_type": "markdown",
   "id": "ff042e51",
   "metadata": {
    "papermill": {
     "duration": 0.017384,
     "end_time": "2023-04-24T17:22:09.194105",
     "exception": false,
     "start_time": "2023-04-24T17:22:09.176721",
     "status": "completed"
    },
    "tags": []
   },
   "source": [
    "* Fraudulent transactions only occur in debit and transfer types."
   ]
  },
  {
   "cell_type": "code",
   "execution_count": 21,
   "id": "f06058d8",
   "metadata": {
    "execution": {
     "iopub.execute_input": "2023-04-24T17:22:09.230627Z",
     "iopub.status.busy": "2023-04-24T17:22:09.230182Z",
     "iopub.status.idle": "2023-04-24T17:22:10.659295Z",
     "shell.execute_reply": "2023-04-24T17:22:10.657988Z"
    },
    "papermill": {
     "duration": 1.451017,
     "end_time": "2023-04-24T17:22:10.662365",
     "exception": false,
     "start_time": "2023-04-24T17:22:09.211348",
     "status": "completed"
    },
    "tags": []
   },
   "outputs": [
    {
     "data": {
      "text/plain": [
       "Text(1004.5517676767676, 0.5, 'Number of transactions')"
      ]
     },
     "execution_count": 21,
     "metadata": {},
     "output_type": "execute_result"
    },
    {
     "name": "stderr",
     "output_type": "stream",
     "text": [
      "posx and posy should be finite values\n",
      "posx and posy should be finite values\n"
     ]
    }
   ],
   "source": [
    "df['quantity'] = pd.cut(df['amount'], 5, labels=['very low', 'low', 'moderate', 'high', 'very high'])\n",
    "\n",
    "ax = sns.countplot(x='quantity', data=df, hue='isFraud', palette='PuBu')\n",
    "for container in ax.containers:\n",
    "    ax.bar_label(container)\n",
    "plt.title('Count plot of amount quantity')\n",
    "plt.legend(bbox_to_anchor=(1.05,1), loc='upper left')\n",
    "plt.ylabel('Number of transactions')"
   ]
  },
  {
   "cell_type": "markdown",
   "id": "cbf0cce6",
   "metadata": {
    "papermill": {
     "duration": 0.020378,
     "end_time": "2023-04-24T17:22:10.703554",
     "exception": false,
     "start_time": "2023-04-24T17:22:10.683176",
     "status": "completed"
    },
    "tags": []
   },
   "source": [
    "* All fraudulent transactions fall into the category of very low amounts. \n",
    "* This suggests that in most cases, small transactions are more prone to fraudulent transactions."
   ]
  },
  {
   "cell_type": "code",
   "execution_count": 22,
   "id": "affa54c9",
   "metadata": {
    "execution": {
     "iopub.execute_input": "2023-04-24T17:22:10.747267Z",
     "iopub.status.busy": "2023-04-24T17:22:10.746532Z",
     "iopub.status.idle": "2023-04-24T17:22:11.275658Z",
     "shell.execute_reply": "2023-04-24T17:22:11.274203Z"
    },
    "papermill": {
     "duration": 0.554259,
     "end_time": "2023-04-24T17:22:11.278524",
     "exception": false,
     "start_time": "2023-04-24T17:22:10.724265",
     "status": "completed"
    },
    "tags": []
   },
   "outputs": [],
   "source": [
    "df1 = df[df['isFraud']==1]\n",
    "df2 = df1['step'].value_counts().head(10)\n",
    "ax = df2.plot(kind='bar', color='lightsteelblue')\n",
    "for container in ax.containers:\n",
    "    ax.bar_label(container)\n",
    "plt.title('Top 10 steps that often lead to fraudulent transactions')\n",
    "plt.ylabel('Number of fraudulent transactions')\n",
    "plt.xlabel('Step')\n",
    "plt.grid(axis='x')\n",
    "\n",
    "del ax, df2"
   ]
  },
  {
   "cell_type": "markdown",
   "id": "dbbb17d4",
   "metadata": {
    "papermill": {
     "duration": 0.021774,
     "end_time": "2023-04-24T17:22:11.323091",
     "exception": false,
     "start_time": "2023-04-24T17:22:11.301317",
     "status": "completed"
    },
    "tags": []
   },
   "source": [
    "* **Step 212** has the highest number of fraudulent transactions, 40 cases. \n",
    "* This indicates that Step 212 is the step that will most likely lead to fraudulent transactions."
   ]
  },
  {
   "cell_type": "code",
   "execution_count": 23,
   "id": "84719f47",
   "metadata": {
    "execution": {
     "iopub.execute_input": "2023-04-24T17:22:11.368407Z",
     "iopub.status.busy": "2023-04-24T17:22:11.367649Z",
     "iopub.status.idle": "2023-04-24T17:22:12.553705Z",
     "shell.execute_reply": "2023-04-24T17:22:12.552213Z"
    },
    "papermill": {
     "duration": 1.212574,
     "end_time": "2023-04-24T17:22:12.557009",
     "exception": false,
     "start_time": "2023-04-24T17:22:11.344435",
     "status": "completed"
    },
    "tags": []
   },
   "outputs": [
    {
     "data": {
      "text/plain": [
       "Text(0.5, 16.472222222222214, 'Initial customers pre-transaction balance amount')"
      ]
     },
     "execution_count": 23,
     "metadata": {},
     "output_type": "execute_result"
    },
    {
     "name": "stderr",
     "output_type": "stream",
     "text": [
      "posx and posy should be finite values\n",
      "posx and posy should be finite values\n"
     ]
    }
   ],
   "source": [
    "df['oldbalanceOrg_amt'] = pd.cut(df['oldbalanceOrg'], 5, labels=['very low', 'low', 'moderate', 'high', 'very high'])\n",
    "\n",
    "ax = sns.countplot(x='oldbalanceOrg_amt', data=df, hue='isFraud', palette='PuBu')\n",
    "for container in ax.containers:\n",
    "    ax.bar_label(container)\n",
    "plt.title('Count plot of initial customers pre-transaction balance amount')\n",
    "plt.legend(bbox_to_anchor=(1.05,1), loc='upper left')\n",
    "plt.ylabel('Number of transactions')\n",
    "plt.xlabel('Initial customers pre-transaction balance amount')"
   ]
  },
  {
   "cell_type": "markdown",
   "id": "fda279ca",
   "metadata": {
    "papermill": {
     "duration": 0.02132,
     "end_time": "2023-04-24T17:22:12.60043",
     "exception": false,
     "start_time": "2023-04-24T17:22:12.57911",
     "status": "completed"
    },
    "tags": []
   },
   "source": [
    "* Initial customers with **very low pre-transaction balances** has the highest number of fraudulent transactions. \n",
    "* This means that initial customers with very low pre-transaction balances may be more likely to fall for a fraudulent transaction."
   ]
  },
  {
   "cell_type": "code",
   "execution_count": 24,
   "id": "2832321c",
   "metadata": {
    "execution": {
     "iopub.execute_input": "2023-04-24T17:22:12.647134Z",
     "iopub.status.busy": "2023-04-24T17:22:12.646201Z",
     "iopub.status.idle": "2023-04-24T17:22:13.029574Z",
     "shell.execute_reply": "2023-04-24T17:22:13.028307Z"
    },
    "papermill": {
     "duration": 0.409601,
     "end_time": "2023-04-24T17:22:13.032607",
     "exception": false,
     "start_time": "2023-04-24T17:22:12.623006",
     "status": "completed"
    },
    "tags": []
   },
   "outputs": [
    {
     "name": "stderr",
     "output_type": "stream",
     "text": [
      "posx and posy should be finite values\n",
      "posx and posy should be finite values\n"
     ]
    }
   ],
   "source": [
    "df2 = df1['nameOrig'].value_counts().head(10)\n",
    "ax = df2.plot(kind='bar', color='lightsteelblue')\n",
    "for container in ax.containers:\n",
    "    ax.bar_label(container)\n",
    "plt.title('Top 10 initial customers fall for a fraudulent transactions')\n",
    "plt.ylabel('Number of fraudulent transactions')\n",
    "plt.xlabel('Initial customers')\n",
    "plt.grid(axis='x')\n",
    "\n",
    "del ax, df2"
   ]
  },
  {
   "cell_type": "markdown",
   "id": "4c80af7f",
   "metadata": {
    "papermill": {
     "duration": 0.021675,
     "end_time": "2023-04-24T17:22:13.077805",
     "exception": false,
     "start_time": "2023-04-24T17:22:13.05613",
     "status": "completed"
    },
    "tags": []
   },
   "source": [
    "* Initial customers are scammed of **at most one** for a fraudulent transaction."
   ]
  },
  {
   "cell_type": "code",
   "execution_count": 25,
   "id": "0e896f9d",
   "metadata": {
    "execution": {
     "iopub.execute_input": "2023-04-24T17:22:13.125123Z",
     "iopub.status.busy": "2023-04-24T17:22:13.123813Z",
     "iopub.status.idle": "2023-04-24T17:22:13.536525Z",
     "shell.execute_reply": "2023-04-24T17:22:13.535286Z"
    },
    "papermill": {
     "duration": 0.439736,
     "end_time": "2023-04-24T17:22:13.539571",
     "exception": false,
     "start_time": "2023-04-24T17:22:13.099835",
     "status": "completed"
    },
    "tags": []
   },
   "outputs": [
    {
     "name": "stderr",
     "output_type": "stream",
     "text": [
      "posx and posy should be finite values\n",
      "posx and posy should be finite values\n"
     ]
    }
   ],
   "source": [
    "df2 = df1['nameDest'].value_counts().head(10)\n",
    "ax = df2.plot(kind='bar', color='lightsteelblue')\n",
    "for container in ax.containers:\n",
    "    ax.bar_label(container)\n",
    "plt.title('Top 10 recipients highly involved in fraudulent transactions')\n",
    "plt.ylabel('Number of fraudulent transactions')\n",
    "plt.xlabel('Recipients')\n",
    "plt.grid(axis='x')\n",
    "\n",
    "del ax, df2"
   ]
  },
  {
   "cell_type": "markdown",
   "id": "2c04ad32",
   "metadata": {
    "papermill": {
     "duration": 0.02288,
     "end_time": "2023-04-24T17:22:13.586021",
     "exception": false,
     "start_time": "2023-04-24T17:22:13.563141",
     "status": "completed"
    },
    "tags": []
   },
   "source": [
    "* Suspicious recipients only have a **maximum of 2** involved fraudulent transactions."
   ]
  },
  {
   "cell_type": "code",
   "execution_count": 26,
   "id": "d229ca3c",
   "metadata": {
    "execution": {
     "iopub.execute_input": "2023-04-24T17:22:13.634663Z",
     "iopub.status.busy": "2023-04-24T17:22:13.634203Z",
     "iopub.status.idle": "2023-04-24T17:22:14.838495Z",
     "shell.execute_reply": "2023-04-24T17:22:14.83744Z"
    },
    "papermill": {
     "duration": 1.232488,
     "end_time": "2023-04-24T17:22:14.841343",
     "exception": false,
     "start_time": "2023-04-24T17:22:13.608855",
     "status": "completed"
    },
    "tags": []
   },
   "outputs": [
    {
     "data": {
      "text/plain": [
       "Text(0.5, -47.902777777777786, 'Recipient pre-transaction balance amount')"
      ]
     },
     "execution_count": 26,
     "metadata": {},
     "output_type": "execute_result"
    },
    {
     "name": "stderr",
     "output_type": "stream",
     "text": [
      "posx and posy should be finite values\n",
      "posx and posy should be finite values\n"
     ]
    }
   ],
   "source": [
    "df['oldbalanceDest_amt'] = pd.cut(df['oldbalanceDest'], 5, labels=['very low', 'low', 'moderate', 'high', 'very high'])\n",
    "\n",
    "ax = sns.countplot(x='oldbalanceDest_amt', data=df, hue='isFraud', palette='PuBu')\n",
    "for container in ax.containers:\n",
    "    ax.bar_label(container)\n",
    "plt.title('Count plot of recipients pre-transaction balance amount')\n",
    "plt.legend(bbox_to_anchor=(1.05,1), loc='upper left')\n",
    "plt.ylabel('Number of transactions')\n",
    "plt.xlabel('Recipient pre-transaction balance amount')"
   ]
  },
  {
   "cell_type": "markdown",
   "id": "80d8b190",
   "metadata": {
    "papermill": {
     "duration": 0.020901,
     "end_time": "2023-04-24T17:22:14.886127",
     "exception": false,
     "start_time": "2023-04-24T17:22:14.865226",
     "status": "completed"
    },
    "tags": []
   },
   "source": [
    "* Recipients with **very low pre-transaction balances** has the highest number of fraudulent transactions. \n",
    "* This implies that recipients with very low pre-transaction balances may be more susceptible to fraudulent transactions."
   ]
  },
  {
   "cell_type": "markdown",
   "id": "0a3a3449",
   "metadata": {
    "papermill": {
     "duration": 0.020258,
     "end_time": "2023-04-24T17:22:25.062138",
     "exception": false,
     "start_time": "2023-04-24T17:22:25.04188",
     "status": "completed"
    },
    "tags": []
   },
   "source": [
    "# <div style='background:darkblue'> <font color='white'> <b>&nbsp; Model Building</b> </font> </div>"
   ]
  },
  {
   "cell_type": "code",
   "execution_count": 1,
   "id": "3a121400",
   "metadata": {
    "execution": {
     "iopub.execute_input": "2023-04-24T17:22:25.107203Z",
     "iopub.status.busy": "2023-04-24T17:22:25.1061Z",
     "iopub.status.idle": "2023-04-24T17:22:25.130545Z",
     "shell.execute_reply": "2023-04-24T17:22:25.12906Z"
    },
    "papermill": {
     "duration": 0.050564,
     "end_time": "2023-04-24T17:22:25.133383",
     "exception": false,
     "start_time": "2023-04-24T17:22:25.082819",
     "status": "completed"
    },
    "tags": []
   },
   "outputs": [
    {
     "ename": "NameError",
     "evalue": "name 'df' is not defined",
     "output_type": "error",
     "traceback": [
      "\u001b[1;31m---------------------------------------------------------------------------\u001b[0m",
      "\u001b[1;31mNameError\u001b[0m                                 Traceback (most recent call last)",
      "Cell \u001b[1;32mIn[1], line 2\u001b[0m\n\u001b[0;32m      1\u001b[0m \u001b[38;5;66;03m# Data preprocessing\u001b[39;00m\n\u001b[1;32m----> 2\u001b[0m df[\u001b[38;5;124m'\u001b[39m\u001b[38;5;124mtype\u001b[39m\u001b[38;5;124m'\u001b[39m] \u001b[38;5;241m=\u001b[39m df[\u001b[38;5;124m'\u001b[39m\u001b[38;5;124mtype\u001b[39m\u001b[38;5;124m'\u001b[39m]\u001b[38;5;241m.\u001b[39mmap({\u001b[38;5;124m'\u001b[39m\u001b[38;5;124mPAYMENT\u001b[39m\u001b[38;5;124m'\u001b[39m:\u001b[38;5;241m0\u001b[39m, \u001b[38;5;124m'\u001b[39m\u001b[38;5;124mCASH_IN\u001b[39m\u001b[38;5;124m'\u001b[39m:\u001b[38;5;241m1\u001b[39m, \u001b[38;5;124m'\u001b[39m\u001b[38;5;124mDEBIT\u001b[39m\u001b[38;5;124m'\u001b[39m:\u001b[38;5;241m2\u001b[39m, \u001b[38;5;124m'\u001b[39m\u001b[38;5;124mCASH_OUT\u001b[39m\u001b[38;5;124m'\u001b[39m:\u001b[38;5;241m3\u001b[39m, \u001b[38;5;124m'\u001b[39m\u001b[38;5;124mTRANSFER\u001b[39m\u001b[38;5;124m'\u001b[39m:\u001b[38;5;241m4\u001b[39m})\n",
      "\u001b[1;31mNameError\u001b[0m: name 'df' is not defined"
     ]
    }
   ],
   "source": [
    "# Data preprocessing\n",
    "df['type'] = df['type'].map({'PAYMENT':0, 'CASH_IN':1, 'DEBIT':2, 'CASH_OUT':3, 'TRANSFER':4})"
   ]
  },
  {
   "cell_type": "markdown",
   "id": "13521573",
   "metadata": {
    "papermill": {
     "duration": 0.04206,
     "end_time": "2023-04-24T17:22:25.216849",
     "exception": false,
     "start_time": "2023-04-24T17:22:25.174789",
     "status": "completed"
    },
    "tags": []
   },
   "source": [
    "Due to the large dataset, Random Forest and Logistic Regression with balanced class weight are used to identify online payment fraud."
   ]
  },
  {
   "cell_type": "code",
   "execution_count": null,
   "id": "984a8ede",
   "metadata": {
    "execution": {
     "iopub.execute_input": "2023-04-24T17:22:25.301674Z",
     "iopub.status.busy": "2023-04-24T17:22:25.301268Z",
     "iopub.status.idle": "2023-04-24T17:22:32.255603Z",
     "shell.execute_reply": "2023-04-24T17:22:32.25431Z"
    },
    "papermill": {
     "duration": 7.001041,
     "end_time": "2023-04-24T17:22:32.259023",
     "exception": false,
     "start_time": "2023-04-24T17:22:25.257982",
     "status": "completed"
    },
    "tags": []
   },
   "outputs": [],
   "source": [
    "from sklearn.model_selection import StratifiedKFold\n",
    "from sklearn.preprocessing import StandardScaler\n",
    "from sklearn.ensemble import RandomForestClassifier\n",
    "from sklearn.linear_model import LogisticRegression\n",
    "from imblearn.under_sampling import RandomUnderSampler\n",
    "from sklearn.model_selection import cross_val_score\n",
    "from sklearn.metrics import classification_report, roc_curve, auc, ConfusionMatrixDisplay\n",
    "\n",
    "\n",
    "seed = 42\n",
    "np.random.seed(seed)\n",
    "random.seed(seed)\n",
    "tf.random.set_seed(seed)\n",
    "\n",
    "\n",
    "X = df.copy()\n",
    "X.drop(['nameOrig', 'newbalanceOrig', 'nameDest', 'newbalanceDest', 'quantity', 'oldbalanceOrg_amt', 'oldbalanceDest_amt'], axis=1, inplace=True)\n",
    "y = X.pop('isFraud')\n",
    "\n",
    "\n",
    "# Stratified train-test split\n",
    "skfold = StratifiedKFold(n_splits=5, shuffle=True, random_state=seed)\n",
    "for train_idx, test_idx in skfold.split(X,y):\n",
    "    X_train, X_test = X.iloc[train_idx], X.iloc[test_idx]\n",
    "    y_train, y_test = y.iloc[train_idx], y.iloc[test_idx]\n",
    "\n",
    "\n",
    "sc = StandardScaler()\n",
    "scaled_train = sc.fit_transform(X_train)\n",
    "scaled_test = sc.transform(X_test)\n",
    "X_train = pd.DataFrame(scaled_train, index=X_train.index, columns=X_train.columns)\n",
    "X_test = pd.DataFrame(scaled_test, index=X_test.index, columns=X_test.columns)\n",
    "\n",
    "\n",
    "X_train, y_train = RandomUnderSampler(sampling_strategy='majority').fit_resample(X_train, y_train)"
   ]
  },
  {
   "cell_type": "code",
   "execution_count": null,
   "id": "3c01359b",
   "metadata": {
    "execution": {
     "iopub.execute_input": "2023-04-24T17:22:32.303026Z",
     "iopub.status.busy": "2023-04-24T17:22:32.301976Z",
     "iopub.status.idle": "2023-04-24T17:22:32.310268Z",
     "shell.execute_reply": "2023-04-24T17:22:32.308784Z"
    },
    "papermill": {
     "duration": 0.032807,
     "end_time": "2023-04-24T17:22:32.312775",
     "exception": false,
     "start_time": "2023-04-24T17:22:32.279968",
     "status": "completed"
    },
    "tags": []
   },
   "outputs": [],
   "source": [
    "def model_comparison_evaluate(classifiers, X, y):\n",
    "    print('K-Fold Cross-Validation:\\n')\n",
    "    for name, model in classifiers.items():\n",
    "        print('{}:'.format(name))\n",
    "        \n",
    "        scoring = ['accuracy', 'precision', 'recall', 'f1', 'roc_auc']\n",
    "        \n",
    "        for score in scoring:\n",
    "            scores = cross_val_score(model, X, y, scoring=score, cv=skfold, n_jobs=-1)\n",
    "            print('Mean {} score: {:.3f} ({:.3f})'.format(score, scores.mean(), scores.std()))\n",
    "            \n",
    "        print('\\n')"
   ]
  },
  {
   "cell_type": "code",
   "execution_count": null,
   "id": "2c26e90b",
   "metadata": {
    "execution": {
     "iopub.execute_input": "2023-04-24T17:22:32.356318Z",
     "iopub.status.busy": "2023-04-24T17:22:32.355852Z",
     "iopub.status.idle": "2023-04-24T17:22:32.361824Z",
     "shell.execute_reply": "2023-04-24T17:22:32.36068Z"
    },
    "papermill": {
     "duration": 0.030735,
     "end_time": "2023-04-24T17:22:32.364411",
     "exception": false,
     "start_time": "2023-04-24T17:22:32.333676",
     "status": "completed"
    },
    "tags": []
   },
   "outputs": [],
   "source": [
    "classifiers = { 'Random Forest Classifier':RandomForestClassifier(class_weight='balanced', random_state=seed),\n",
    "                'Logistic Regression': LogisticRegression(class_weight='balanced', random_state=seed)\n",
    "              }"
   ]
  },
  {
   "cell_type": "code",
   "execution_count": null,
   "id": "cf5cc10a",
   "metadata": {
    "execution": {
     "iopub.execute_input": "2023-04-24T17:22:32.407812Z",
     "iopub.status.busy": "2023-04-24T17:22:32.40738Z",
     "iopub.status.idle": "2023-04-24T17:22:49.242288Z",
     "shell.execute_reply": "2023-04-24T17:22:49.240546Z"
    },
    "papermill": {
     "duration": 16.8597,
     "end_time": "2023-04-24T17:22:49.245021",
     "exception": false,
     "start_time": "2023-04-24T17:22:32.385321",
     "status": "completed"
    },
    "tags": []
   },
   "outputs": [
    {
     "name": "stdout",
     "output_type": "stream",
     "text": [
      "K-Fold Cross-Validation:\n",
      "\n",
      "Random Forest Classifier:\n",
      "Mean accuracy score: 0.985 (0.003)\n",
      "Mean precision score: 0.975 (0.006)\n",
      "Mean recall score: 0.996 (0.002)\n",
      "Mean f1 score: 0.985 (0.003)\n",
      "Mean roc_auc score: 0.998 (0.000)\n",
      "\n",
      "\n",
      "Logistic Regression:\n",
      "Mean accuracy score: 0.848 (0.007)\n",
      "Mean precision score: 0.843 (0.008)\n",
      "Mean recall score: 0.856 (0.005)\n",
      "Mean f1 score: 0.849 (0.006)\n",
      "Mean roc_auc score: 0.927 (0.004)\n",
      "\n",
      "\n"
     ]
    }
   ],
   "source": [
    "model_comparison_evaluate(classifiers, X_train, y_train)"
   ]
  },
  {
   "cell_type": "code",
   "execution_count": null,
   "id": "4f1149c8",
   "metadata": {
    "execution": {
     "iopub.execute_input": "2023-04-24T17:22:49.291349Z",
     "iopub.status.busy": "2023-04-24T17:22:49.289992Z",
     "iopub.status.idle": "2023-04-24T17:23:12.750962Z",
     "shell.execute_reply": "2023-04-24T17:23:12.749387Z"
    },
    "papermill": {
     "duration": 23.487091,
     "end_time": "2023-04-24T17:23:12.753861",
     "exception": false,
     "start_time": "2023-04-24T17:22:49.26677",
     "status": "completed"
    },
    "tags": []
   },
   "outputs": [
    {
     "name": "stdout",
     "output_type": "stream",
     "text": [
      "Random Forest Classifier:\n",
      "               precision    recall  f1-score   support\n",
      "\n",
      "Non-Fraud [0]       0.98      1.00      0.99   1239159\n",
      "    Fraud [1]       1.00      0.05      0.09     33365\n",
      "\n",
      "     accuracy                           0.98   1272524\n",
      "    macro avg       0.99      0.52      0.54   1272524\n",
      " weighted avg       0.98      0.98      0.96   1272524\n",
      " \n",
      "\n"
     ]
    },
    {
     "data": {
      "text/plain": [
       "Text(0.5, 0, 'False Positive Rate')"
      ]
     },
     "execution_count": 32,
     "metadata": {},
     "output_type": "execute_result"
    },
    {
     "data": {
      "image/png": "[encoded data removed]",
      "text/plain": [
       "<Figure size 1440x360 with 2 Axes>"
      ]
     },
     "metadata": {},
     "output_type": "display_data"
    }
   ],
   "source": [
    "model = RandomForestClassifier(class_weight='balanced', random_state=seed)\n",
    "model.fit(X_train, y_train)\n",
    "y_pred = model.predict(X_test)\n",
    "y_pred_score = model.predict_proba(X_test)[:,1]\n",
    "print('Random Forest Classifier:')\n",
    "print(classification_report(y_pred, y_test, labels=[0,1], target_names=['Non-Fraud [0]', 'Fraud [1]']), '\\n')\n",
    "\n",
    "\n",
    "\n",
    "fig, ax = plt.subplots(1, 2, figsize=(20,5))\n",
    "ax[0].set_title('Confusion Matrix of Random Forest Model:')\n",
    "ConfusionMatrixDisplay.from_predictions(y_test, y_pred, colorbar=False, values_format='', cmap='crest', ax=ax[0])\n",
    "ax[0].grid(False)\n",
    "\n",
    "\n",
    "\n",
    "fpr, tpr, thresholds = roc_curve(y_test, y_pred_score)\n",
    "roc_auc = auc(fpr, tpr)                       \n",
    "ax[1].set_title('ROC Curve - Random Forest Classifier')\n",
    "ax[1].plot(fpr, tpr, label = 'AUC = %0.3f' % roc_auc, c='steelblue')\n",
    "ax[1].plot([0,1],[0,1],'--', c='lightsteelblue')\n",
    "ax[1].legend(loc='lower right')\n",
    "ax[1].set_ylabel('True Positive Rate')\n",
    "ax[1].set_xlabel('False Positive Rate')"
   ]
  },
  {
   "cell_type": "markdown",
   "id": "29dd0c3d",
   "metadata": {
    "papermill": {
     "duration": 0.022138,
     "end_time": "2023-04-24T17:23:12.798815",
     "exception": false,
     "start_time": "2023-04-24T17:23:12.776677",
     "status": "completed"
    },
    "tags": []
   },
   "source": [
    "* From the confusion matrix, 1,239,155 were correctly classified as non-fraudulent payments, and 31,726 people were misclassified as non-fraudulent payments.\n",
    "* According to the confusion matrix, 1,639 payments were incorrectly labelled as fraud while 4 payments were correctly identified as fraud."
   ]
  },
  {
   "cell_type": "markdown",
   "id": "13de97e5",
   "metadata": {
    "papermill": {
     "duration": 0.02282,
     "end_time": "2023-04-24T17:23:12.844231",
     "exception": false,
     "start_time": "2023-04-24T17:23:12.821411",
     "status": "completed"
    },
    "tags": []
   },
   "source": [
    "# <div style='background:darkblue'>  <font color='white'> <b>&nbsp; Conclusion</b> </font> </div>\n",
    "\n",
    "* Random Forest obtains the highest score of all using K-fold cross-validation.\n",
    "* The best performing model is **Random Forest** for identifying fraudulent and non-fraudulent payments, as the AUC is 0.999, which is close to 1. This means it has a good separability measure, and the model has an 99.9% chance of being able to distinguish between positive and negative classes.."
   ]
  },
  {
   "cell_type": "code",
   "execution_count": null,
   "id": "7313c44b",
   "metadata": {},
   "outputs": [],
   "source": [
    "import pickle\n",
    "with open('fraud_detection_model.pkl', 'wb') as file:\n",
    "    pickle.dump(model, file)"
   ]
  }
 ],
 "metadata": {
  "kernelspec": {
   "display_name": "base",
   "language": "python",
   "name": "python3"
  },
  "language_info": {
   "codemirror_mode": {
    "name": "ipython",
    "version": 3
   },
   "file_extension": ".py",
   "mimetype": "text/x-python",
   "name": "python",
   "nbconvert_exporter": "python",
   "pygments_lexer": "ipython3",
   "version": "3.12.7"
  },
  "papermill": {
   "default_parameters": {},
   "duration": 275.002595,
   "end_time": "2023-04-24T17:23:15.592125",
   "environment_variables": {},
   "exception": null,
   "input_path": "__notebook__.ipynb",
   "output_path": "__notebook__.ipynb",
   "parameters": {},
   "start_time": "2023-04-24T17:18:40.58953",
   "version": "2.3.4"
  }
 },
 "nbformat": 4,
 "nbformat_minor": 5
}
